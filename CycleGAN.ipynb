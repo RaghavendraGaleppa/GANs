{
  "nbformat": 4,
  "nbformat_minor": 0,
  "metadata": {
    "colab": {
      "name": "CycleGAN.ipynb",
      "version": "0.3.2",
      "provenance": [],
      "include_colab_link": true
    },
    "kernelspec": {
      "name": "python3",
      "display_name": "Python 3"
    },
    "accelerator": "GPU"
  },
  "cells": [
    {
      "cell_type": "markdown",
      "metadata": {
        "id": "view-in-github",
        "colab_type": "text"
      },
      "source": [
        "<a href=\"https://colab.research.google.com/github/RaghavendraGaleppa/GANs/blob/master/CycleGAN.ipynb\" target=\"_parent\"><img src=\"https://colab.research.google.com/assets/colab-badge.svg\" alt=\"Open In Colab\"/></a>"
      ]
    },
    {
      "cell_type": "code",
      "metadata": {
        "id": "Rst11X0lhbc4",
        "colab_type": "code",
        "colab": {}
      },
      "source": [
        "import torch\n",
        "import torch.nn as nn\n",
        "import torchvision\n",
        "import PIL.Image as Image\n",
        "import numpy as np\n",
        "import matplotlib.pyplot as plt\n",
        "import os"
      ],
      "execution_count": 0,
      "outputs": []
    },
    {
      "cell_type": "code",
      "metadata": {
        "id": "-6AODp4uhsSK",
        "colab_type": "code",
        "outputId": "6e624b7a-8fe4-4c70-bb59-9a5a8b1f307d",
        "colab": {
          "base_uri": "https://localhost:8080/",
          "height": 228
        }
      },
      "source": [
        "!wget https://people.eecs.berkeley.edu/~taesung_park/CycleGAN/datasets/horse2zebra.zip"
      ],
      "execution_count": 2,
      "outputs": [
        {
          "output_type": "stream",
          "text": [
            "--2019-05-21 15:55:19--  https://people.eecs.berkeley.edu/~taesung_park/CycleGAN/datasets/horse2zebra.zip\n",
            "Resolving people.eecs.berkeley.edu (people.eecs.berkeley.edu)... 128.32.189.73\n",
            "Connecting to people.eecs.berkeley.edu (people.eecs.berkeley.edu)|128.32.189.73|:443... connected.\n",
            "HTTP request sent, awaiting response... 200 OK\n",
            "Length: 116867962 (111M) [application/zip]\n",
            "Saving to: ‘horse2zebra.zip’\n",
            "\n",
            "horse2zebra.zip     100%[===================>] 111.45M  35.5MB/s    in 3.1s    \n",
            "\n",
            "2019-05-21 15:55:27 (35.5 MB/s) - ‘horse2zebra.zip’ saved [116867962/116867962]\n",
            "\n"
          ],
          "name": "stdout"
        }
      ]
    },
    {
      "cell_type": "code",
      "metadata": {
        "id": "AauSu6xPp55R",
        "colab_type": "code",
        "colab": {}
      },
      "source": [
        "!mkdir ./.data/; unzip -qq -d ./.data/ horse2zebra.zip"
      ],
      "execution_count": 0,
      "outputs": []
    },
    {
      "cell_type": "code",
      "metadata": {
        "id": "nYa-iImeqIp0",
        "colab_type": "code",
        "colab": {}
      },
      "source": [
        "def load_image(root):\n",
        "  files = os.listdir(root)\n",
        "  data = []\n",
        "  \n",
        "  for fname in files:\n",
        "    img = Image.open(root+fname)\n",
        "    data.append(np.array(img))\n",
        "    \n",
        "  return data"
      ],
      "execution_count": 0,
      "outputs": []
    },
    {
      "cell_type": "code",
      "metadata": {
        "id": "BvYTCttBq1id",
        "colab_type": "code",
        "colab": {}
      },
      "source": [
        "horse = np.array(load_image('./.data/horse2zebra/trainA/'))"
      ],
      "execution_count": 0,
      "outputs": []
    },
    {
      "cell_type": "code",
      "metadata": {
        "id": "1S8cEeXerBec",
        "colab_type": "code",
        "colab": {}
      },
      "source": [
        "zebra = load_image('./.data/horse2zebra/trainB/')"
      ],
      "execution_count": 0,
      "outputs": []
    },
    {
      "cell_type": "code",
      "metadata": {
        "id": "846mvpK2rwlZ",
        "colab_type": "code",
        "outputId": "303b41ed-504d-41d6-ab15-65f02aabcdd4",
        "colab": {
          "base_uri": "https://localhost:8080/",
          "height": 193
        }
      },
      "source": [
        "for z in zebra:\n",
        "  if(z.shape == (256,256)):\n",
        "    print('lala')\n",
        "    zebra.remove(z)"
      ],
      "execution_count": 29,
      "outputs": [
        {
          "output_type": "stream",
          "text": [
            "lala\n",
            "lala\n",
            "lala\n",
            "lala\n",
            "lala\n",
            "lala\n",
            "lala\n"
          ],
          "name": "stdout"
        },
        {
          "output_type": "stream",
          "text": [
            "/usr/local/lib/python3.6/dist-packages/ipykernel_launcher.py:4: DeprecationWarning: elementwise comparison failed; this will raise an error in the future.\n",
            "  after removing the cwd from sys.path.\n"
          ],
          "name": "stderr"
        }
      ]
    },
    {
      "cell_type": "code",
      "metadata": {
        "id": "ERKrJCo3r8Al",
        "colab_type": "code",
        "colab": {}
      },
      "source": [
        "zebra = np.array(zebra)"
      ],
      "execution_count": 0,
      "outputs": []
    },
    {
      "cell_type": "code",
      "metadata": {
        "id": "yrfu-9zCsIYe",
        "colab_type": "code",
        "outputId": "1618d79f-765b-45e1-f963-4f26148971ff",
        "colab": {
          "base_uri": "https://localhost:8080/",
          "height": 52
        }
      },
      "source": [
        "print(horse.shape)\n",
        "print(zebra.shape)"
      ],
      "execution_count": 31,
      "outputs": [
        {
          "output_type": "stream",
          "text": [
            "(1067, 256, 256, 3)\n",
            "(1327, 256, 256, 3)\n"
          ],
          "name": "stdout"
        }
      ]
    },
    {
      "cell_type": "code",
      "metadata": {
        "id": "9hquOcJDqe4G",
        "colab_type": "code",
        "colab": {}
      },
      "source": [
        "# Buidling the Generator for Cycle GAN\n",
        "# Input Image \n",
        "# --> Encoding\n",
        "#     --> Conv Layer 1\n",
        "#     --> Conv Layer 2\n",
        "#     --> Conv Layer 3\n",
        "# --> Transformation\n",
        "#     --> Resnet Block 1\n",
        "#     --> Resnet Block 2\n",
        "#     --> Resnet Block 3\n",
        "# --> Decoding\n",
        "#     --> Deconv Layer 1\n",
        "#     --> Deconv Layer 2\n",
        "#     --> Deconv Layer 3\n",
        "\n",
        "class EncodingBlock(nn.Module):\n",
        "  \n",
        "  def __init__(self, inputChannels):\n",
        "    super(EncodingBlock, self).__init__()\n",
        "    \n",
        "    # (256,256,3 -> 256,256,32)\n",
        "    self.conv1 = nn.Conv2d(inputChannels, 32, 3, stride=1, padding=1)\n",
        "    self.bn1 = nn.BatchNorm2d(32)\n",
        "    # (256, 256, 32 -> 128, 128, 64)\n",
        "    self.conv2 = nn.Conv2d(32, 64, 3, stride=(2,2), padding=1)\n",
        "    self.bn2 = nn.BatchNorm2d(64)\n",
        "    # (128, 128, 64 -> 64, 64, 128)\n",
        "    self.conv3 = nn.Conv2d(64, 128, 3, stride=2,padding=1)\n",
        "    self.bn3 = nn.BatchNorm2d(128)\n",
        "    \n",
        "    self.relu = nn.LeakyReLU()\n",
        "    \n",
        "  def forward(self, x):\n",
        "    x = self.bn1(self.relu(self.conv1(x)))\n",
        "    #print(x.shape)\n",
        "    x = self.bn2(self.relu(self.conv2(x)))\n",
        "    #print(x.shape)\n",
        "    x = self.bn3(self.relu(self.conv3(x)))\n",
        "    #print(x.shape)\n",
        "    \n",
        "    return x\n",
        "  \n",
        "class ResnetBlock(nn.Module):\n",
        "  \n",
        "  def __init__(self, inp, out):\n",
        "    super(ResnetBlock, self).__init__()\n",
        "    self.res1 = nn.Conv2d(inp, out, 3, stride=1, padding=1)\n",
        "    self.res2 = nn.Conv2d(out,out, 3, stride=1, padding=1)\n",
        "    \n",
        "    self.relu = nn.LeakyReLU()\n",
        "    self.bn = nn.BatchNorm2d(out)\n",
        "    \n",
        "  def forward(self, x):\n",
        "    \n",
        "    X = self.bn(self.relu(self.res1(x)))\n",
        "    X = self.bn(self.relu(self.res2(X)))\n",
        "    \n",
        "    X = X+x\n",
        "    \n",
        "    return X\n",
        "  \n",
        "class DecodingBlock(nn.Module): \n",
        "  \n",
        "  def __init__(self, inp):\n",
        "    super(DecodingBlock, self).__init__()\n",
        "    \n",
        "    # (64, 64, inp) -> (64, 64, 512)\n",
        "    self.dconv1 = nn.ConvTranspose2d(inp, 512, 3,stride=1, padding=1)\n",
        "    self.bn1 = nn.BatchNorm2d(512)\n",
        "    # (64, 64, 512) -> (128, 128, 256)\n",
        "    self.dconv2 = nn.ConvTranspose2d(512, 256,4, stride=2, padding=1)\n",
        "    self.bn2 = nn.BatchNorm2d(256)\n",
        "    # (128, 128, 256) -> (256, 256, 128)\n",
        "    self.dconv3 = nn.ConvTranspose2d(256, 128, 4, stride=2, padding=1)\n",
        "    self.bn3 = nn.BatchNorm2d(128)\n",
        "    # (256, 256, 128) -> (256, 256, 3)\n",
        "    self.dconv4 = nn.ConvTranspose2d(128, 3, 3, stride=1, padding=1)\n",
        "    \n",
        "    self.relu = nn.LeakyReLU()\n",
        "    self.tanh = nn.Tanh()\n",
        "    \n",
        "  def forward(self, x):\n",
        "    x = self.relu(self.bn1(self.dconv1(x)))\n",
        "    #print(x.shape)\n",
        "    x = self.relu(self.bn2(self.dconv2(x)))\n",
        "    #print(x.shape)\n",
        "    x = self.relu(self.bn3(self.dconv3(x)))\n",
        "    #print(x.shape)\n",
        "    x = self.tanh(self.dconv4(x))\n",
        "    #print(x.shape)\n",
        "    \n",
        "    return x\n",
        "    \n",
        "\n",
        "class Generator(nn.Module):\n",
        "  \n",
        "  def __init__(self):\n",
        "    super(Generator, self).__init__()\n",
        "    \n",
        "    # Encoding Block\n",
        "    self.enc = EncodingBlock(3)\n",
        "    # 4 Resnet Blocks\n",
        "    self.res1 = ResnetBlock(128,128)\n",
        "    self.res2 = ResnetBlock(128,128)\n",
        "    self.res3 = ResnetBlock(128,128)\n",
        "    self.res4 = ResnetBlock(128,128)\n",
        "    # Decoding Block\n",
        "    self.dec = DecodingBlock(128)\n",
        "    \n",
        "  def forward(self, image):\n",
        "    X = self.enc(image)\n",
        "    X = self.res1(X)\n",
        "    X = self.res2(X)\n",
        "    X = self.res3(X)\n",
        "    X = self.res4(X)\n",
        "    X = self.dec(X)\n",
        "    \n",
        "    return X\n",
        "    "
      ],
      "execution_count": 0,
      "outputs": []
    },
    {
      "cell_type": "code",
      "metadata": {
        "id": "ymOXcV8uV-O1",
        "colab_type": "code",
        "colab": {}
      },
      "source": [
        "# Building the Discriminator for GAN\n",
        "\n",
        "dnf = 16\n",
        "\n",
        "class Discriminator(nn.Module):\n",
        "  \n",
        "  def __init__(self):\n",
        "    super(Discriminator, self).__init__()\n",
        "    \n",
        "    # (256, 256, 3) -> (256,256,32)\n",
        "    self.conv1 = nn.Conv2d(3, dnf*2, 3, padding=1)\n",
        "    self.bn1 = nn.BatchNorm2d(dnf*2)\n",
        "    # (256,256,32) -> (128,128,64)\n",
        "    self.conv2 = nn.Conv2d(dnf*2, dnf*4, 3, stride = 2, padding=1)\n",
        "    self.bn2 = nn.BatchNorm2d(dnf*4)\n",
        "    # (128,128,64) -> (64,64,128)\n",
        "    self.conv3 = nn.Conv2d(dnf*4, dnf*8, 3, stride=2, padding=1)\n",
        "    self.bn3 = nn.BatchNorm2d(dnf*8)\n",
        "    # (64,64,128) -> (32, 32, 256)\n",
        "    self.conv4 = nn.Conv2d(dnf*8, dnf*16, 3,stride=2, padding=1)\n",
        "    self.bn4 = nn.BatchNorm2d(dnf*16)\n",
        "    \n",
        "    # (32,32,256) -> (16,16,256)\n",
        "    self.conv5 = nn.Conv2d(dnf*16, dnf*16, 3, stride=2, padding=1)\n",
        "    self.bn5 = nn.BatchNorm2d(dnf*16)\n",
        "    \n",
        "     # (16,16,256) -> (8,8,256)\n",
        "    self.conv6 = nn.Conv2d(dnf*16, dnf*16, 3, stride=2, padding=1)\n",
        "    self.bn6 = nn.BatchNorm2d(dnf*16)\n",
        "    \n",
        "    # (8,8,256) -> (4,4,256)\n",
        "    self.conv7 = nn.Conv2d(dnf*16, dnf*16, 3, stride=2, padding=1)\n",
        "    self.bn7 = nn.BatchNorm2d(dnf*16)\n",
        "    \n",
        "    # (4,4,256) -> (1,1,256)\n",
        "    self.conv8 = nn.Conv2d(dnf*16, dnf*16, 4)\n",
        "    \n",
        "    # (1,1,256) -> (1,1,1)\n",
        "    self.conv9 = nn.Conv2d(dnf*16, 1, 1)\n",
        "\n",
        "    self.relu = nn.LeakyReLU()\n",
        "    self.r = nn.ReLU()\n",
        "    \n",
        "  def forward(self,x):\n",
        "    \n",
        "    x = self.relu(self.bn1(self.conv1(x)))\n",
        "    #print(\"Conv1:\",x.shape)\n",
        "    x = self.relu(self.bn2(self.conv2(x)))\n",
        "    #print(\"Conv2:\",x.shape)\n",
        "    x = self.relu(self.bn3(self.conv3(x)))    \n",
        "    #print(\"Conv3:\",x.shape)\n",
        "    x = self.relu(self.bn4(self.conv4(x)))\n",
        "    #print(\"Conv4:\",x.shape)\n",
        "    x = self.relu(self.bn5(self.conv5(x)))\n",
        "    #print(\"Conv5:\",x.shape)\n",
        "    x = self.relu(self.bn6(self.conv6(x)))\n",
        "    #print(\"Conv6:\",x.shape)\n",
        "    x = self.relu(self.bn7(self.conv7(x)))\n",
        "    #print(\"Conv7:\",x.shape)\n",
        "    x = self.relu(self.conv8(x))\n",
        "    #print(\"Conv8:\",x.shape)\n",
        "    \n",
        "    x = self.r(self.conv9(x))\n",
        "    #print(\"Conv9:\",x.shape)\n",
        "    \n",
        "    return x\n",
        "    \n",
        "       "
      ],
      "execution_count": 0,
      "outputs": []
    },
    {
      "cell_type": "code",
      "metadata": {
        "id": "7mgfFOjFe-DT",
        "colab_type": "code",
        "colab": {}
      },
      "source": [
        "gen_AtoB = Generator()\n",
        "gen_BtoA = Generator()\n",
        "disc_A = Discriminator()\n",
        "disc_B = Discriminator()\n",
        "\n"
      ],
      "execution_count": 0,
      "outputs": []
    },
    {
      "cell_type": "code",
      "metadata": {
        "id": "mayaoMPCgDzj",
        "colab_type": "code",
        "colab": {}
      },
      "source": [
        "# Data Loading part\n",
        "\n",
        "import torchvision.transforms as transforms\n",
        "import torch.utils.data as data\n",
        "\n",
        "horse = np.array(load_image('./.data/horse2zebra/trainA/'))\n",
        "zebra = load_image('./.data/horse2zebra/trainB/')\n",
        "for z in zebra:\n",
        "  if(z.shape == (256,256)):\n",
        "    print('lala')\n",
        "    zebra.remove(z)\n",
        "    \n",
        "print(horse.shape)\n",
        "print(zebra.shape)\n",
        "# Normalize the tensors from -1 to 1\n",
        "horse = horse/255.0\n",
        "horse = (horse-0.5)/0.5\n",
        "\n",
        "zebra = zebra/255.0\n",
        "zebra = (zebra-0.5)/0.5"
      ],
      "execution_count": 0,
      "outputs": []
    },
    {
      "cell_type": "code",
      "metadata": {
        "id": "-B4fylu2InMp",
        "colab_type": "code",
        "colab": {}
      },
      "source": [
        ""
      ],
      "execution_count": 0,
      "outputs": []
    }
  ]
}